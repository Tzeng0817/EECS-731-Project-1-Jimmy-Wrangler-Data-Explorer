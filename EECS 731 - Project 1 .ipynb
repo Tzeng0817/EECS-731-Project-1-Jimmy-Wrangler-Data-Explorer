{
 "cells": [
  {
   "cell_type": "code",
   "execution_count": 45,
   "metadata": {
    "scrolled": false
   },
   "outputs": [
    {
     "name": "stdout",
     "output_type": "stream",
     "text": [
      "    year  Precipitation(inch)  Rice Production(mmt)  Rice Price(cent/pounds)\n",
      "1   2019                34.78                233.50                       70\n",
      "2   2018                34.63                231.00                       71\n",
      "3   2107                32.21                184.68                       76\n",
      "4   2016                31.70                172.00                       78\n",
      "5   2015                34.47                215.60                       73\n",
      "6   2014                35.12                220.30                       68\n",
      "7   2013                35.23                223.40                       67\n",
      "8   2012                33.75                202.70                       72\n",
      "9   2011                33.52                201.40                       72\n",
      "10  2010                34.92                237.60                       70\n",
      "11  2009                29.88                156.20                       81\n"
     ]
    },
    {
     "name": "stderr",
     "output_type": "stream",
     "text": [
      "<ipython-input-45-c932c76b115c>:47: MatplotlibDeprecationWarning: Adding an axes using the same arguments as a previous axes currently reuses the earlier instance.  In a future version, a new instance will always be created and returned.  Meanwhile, this warning can be suppressed, and the future behavior ensured, by passing a unique label to each axes instance.\n",
      "  ax1 = plt.axes()\n"
     ]
    },
    {
     "data": {
      "image/png": "[encoded data removed]",
      "text/plain": [
       "<Figure size 432x288 with 1 Axes>"
      ]
     },
     "metadata": {
      "needs_background": "light"
     },
     "output_type": "display_data"
    }
   ],
   "source": [
    "import numpy as np\n",
    "import pandas as pd\n",
    "import matplotlib.pyplot as plt\n",
    "plt.close('all')\n",
    "\n",
    "\n",
    "\n",
    "header = \"                EECS 731 Project1: Jimmy Warangler, Data Explorer\"\n",
    "year = [2019, 2018, 2017, 2016, 2015, 2014, 2013, 2012, 2011, 2010, 2009]\n",
    "index = [1,2,3,4,5,6,7,8,9,10,11]\n",
    "\n",
    "\n",
    "df = pd.DataFrame(\n",
    "    [['2019', 34.78, 233.5, 70],\n",
    "    ['2018', 34.63, 231.0, 71],\n",
    "    ['2107', 32.21, 184.68, 76],\n",
    "    ['2016', 31.70, 172.0, 78],\n",
    "    ['2015', 34.47, 215.6, 73],\n",
    "    ['2014', 35.12, 220.3, 68],\n",
    "    ['2013', 35.23, 223.4, 67],\n",
    "    ['2012', 33.75, 202.7, 72],\n",
    "    ['2011', 33.52, 201.4, 72],\n",
    "    ['2010', 34.92, 237.6, 70],\n",
    "    ['2009', 29.88, 156.2, 81]],\n",
    "    index = [2019, 2018, 2017, 2016, 2015, 2014, 2013, 2012, 2011, 2010, 2009],\n",
    "    columns = ['year', 'Precipitation(inch)', 'Rice Production(mmt)', 'Rice Price(cent/pounds)'])\n",
    "\n",
    "sf = pd.DataFrame(\n",
    "    [['2019', 34.78, 233.5, 70],\n",
    "    ['2018', 34.63, 231.0, 71],\n",
    "    ['2107', 32.21, 184.68, 76],\n",
    "    ['2016', 31.70, 172.0, 78],\n",
    "    ['2015', 34.47, 215.6, 73],\n",
    "    ['2014', 35.12, 220.3, 68],\n",
    "    ['2013', 35.23, 223.4, 67],\n",
    "    ['2012', 33.75, 202.7, 72],\n",
    "    ['2011', 33.52, 201.4, 72],\n",
    "    ['2010', 34.92, 237.6, 70],\n",
    "    ['2009', 29.88, 156.2, 81]],\n",
    "    index = [1,2,3,4,5,6,7,8,9,10,11],\n",
    "    columns = ['year', 'Precipitation(inch)', 'Rice Production(mmt)', 'Rice Price(cent/pounds)'])\n",
    "\n",
    "print(sf)   \n",
    "\n",
    "\n",
    "df.plot()\n",
    "ax1 = plt.axes()\n",
    "y_axis = ax1.axes.get_yaxis()\n",
    "y_axis.set_visible(False)\n",
    "plt.show()\n",
    "plt.close()"
   ]
  }
 ],
 "metadata": {
  "kernelspec": {
   "display_name": "Python 3",
   "language": "python",
   "name": "python3"
  },
  "language_info": {
   "codemirror_mode": {
    "name": "ipython",
    "version": 3
   },
   "file_extension": ".py",
   "mimetype": "text/x-python",
   "name": "python",
   "nbconvert_exporter": "python",
   "pygments_lexer": "ipython3",
   "version": "3.8.5"
  }
 },
 "nbformat": 4,
 "nbformat_minor": 4
}
